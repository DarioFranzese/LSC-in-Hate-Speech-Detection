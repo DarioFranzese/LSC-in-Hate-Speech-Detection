{
 "cells": [
  {
   "cell_type": "code",
   "execution_count": 1,
   "id": "c4d0675c",
   "metadata": {},
   "outputs": [
    {
     "name": "stdout",
     "output_type": "stream",
     "text": [
      "Elementi originali: 7711\n",
      "Elementi filtrati: 6940\n",
      "Elementi rimossi: 771\n"
     ]
    }
   ],
   "source": [
    "import json\n",
    "\n",
    "# Carica il file JSON\n",
    "with open('filtered_full_hate_lexicon.json', 'r', encoding='utf-8') as f:\n",
    "    data = json.load(f)\n",
    "\n",
    "# Filtra: mantieni solo gli elementi dove ALMENO UNA definition ha tags vuoti\n",
    "filtered_data = [\n",
    "    item for item in data \n",
    "    if any(len(definition['tags']) == 0 for definition in item['definitions'])\n",
    "]\n",
    "\n",
    "# Salva il risultato\n",
    "with open('output.json', 'w', encoding='utf-8') as f:\n",
    "    json.dump(filtered_data, f, indent=4, ensure_ascii=False)\n",
    "\n",
    "print(f\"Elementi originali: {len(data)}\")\n",
    "print(f\"Elementi filtrati: {len(filtered_data)}\")\n",
    "print(f\"Elementi rimossi: {len(data) - len(filtered_data)}\")"
   ]
  }
 ],
 "metadata": {
  "kernelspec": {
   "display_name": "base",
   "language": "python",
   "name": "python3"
  },
  "language_info": {
   "codemirror_mode": {
    "name": "ipython",
    "version": 3
   },
   "file_extension": ".py",
   "mimetype": "text/x-python",
   "name": "python",
   "nbconvert_exporter": "python",
   "pygments_lexer": "ipython3",
   "version": "3.10.15"
  }
 },
 "nbformat": 4,
 "nbformat_minor": 5
}
