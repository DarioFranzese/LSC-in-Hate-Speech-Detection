{
 "cells": [
  {
   "cell_type": "code",
   "execution_count": null,
   "id": "f8754105",
   "metadata": {},
   "outputs": [
    {
     "name": "stderr",
     "output_type": "stream",
     "text": [
      "[nltk_data] Downloading package stopwords to\n",
      "[nltk_data]     C:\\Users\\Dario\\AppData\\Roaming\\nltk_data...\n",
      "[nltk_data]   Package stopwords is already up-to-date!\n"
     ]
    }
   ],
   "source": [
    "import pandas as pd\n",
    "import re\n",
    "import string\n",
    "from collections import Counter\n",
    "from nltk.corpus import stopwords\n",
    "import nltk\n",
    "\n",
    "\n",
    "nltk.download('stopwords')\n",
    "stop_words = set(stopwords.words('english'))"
   ]
  },
  {
   "cell_type": "code",
   "execution_count": 59,
   "id": "822e27d6",
   "metadata": {},
   "outputs": [
    {
     "name": "stderr",
     "output_type": "stream",
     "text": [
      "c:\\Users\\Dario\\miniconda3\\lib\\site-packages\\pandas\\core\\arrays\\datetimes.py:1143: UserWarning: Converting to PeriodArray/Index representation will drop timezone information.\n",
      "  warnings.warn(\n"
     ]
    }
   ],
   "source": [
    "df = pd.read_csv(\"../CivilComments/data.csv\")\n",
    "\n",
    "# parse date column\n",
    "df[\"year\"] = pd.to_datetime(df[\"created_date\"], errors=\"coerce\").dt.to_period(\"Y\")"
   ]
  },
  {
   "cell_type": "code",
   "execution_count": 3,
   "id": "3a85f1f9",
   "metadata": {},
   "outputs": [
    {
     "data": {
      "text/html": [
       "<div>\n",
       "<style scoped>\n",
       "    .dataframe tbody tr th:only-of-type {\n",
       "        vertical-align: middle;\n",
       "    }\n",
       "\n",
       "    .dataframe tbody tr th {\n",
       "        vertical-align: top;\n",
       "    }\n",
       "\n",
       "    .dataframe thead th {\n",
       "        text-align: right;\n",
       "    }\n",
       "</style>\n",
       "<table border=\"1\" class=\"dataframe\">\n",
       "  <thead>\n",
       "    <tr style=\"text-align: right;\">\n",
       "      <th></th>\n",
       "      <th>id</th>\n",
       "      <th>comment_text</th>\n",
       "      <th>split</th>\n",
       "      <th>created_date</th>\n",
       "      <th>publication_id</th>\n",
       "      <th>parent_id</th>\n",
       "      <th>article_id</th>\n",
       "      <th>rating</th>\n",
       "      <th>funny</th>\n",
       "      <th>wow</th>\n",
       "      <th>...</th>\n",
       "      <th>asian</th>\n",
       "      <th>latino</th>\n",
       "      <th>other_race_or_ethnicity</th>\n",
       "      <th>physical_disability</th>\n",
       "      <th>intellectual_or_learning_disability</th>\n",
       "      <th>psychiatric_or_mental_illness</th>\n",
       "      <th>other_disability</th>\n",
       "      <th>identity_annotator_count</th>\n",
       "      <th>toxicity_annotator_count</th>\n",
       "      <th>year</th>\n",
       "    </tr>\n",
       "  </thead>\n",
       "  <tbody>\n",
       "    <tr>\n",
       "      <th>0</th>\n",
       "      <td>1083994</td>\n",
       "      <td>He got his money... now he lies in wait till a...</td>\n",
       "      <td>train</td>\n",
       "      <td>2017-03-06 15:21:53.675241+00</td>\n",
       "      <td>21</td>\n",
       "      <td>NaN</td>\n",
       "      <td>317120</td>\n",
       "      <td>approved</td>\n",
       "      <td>0</td>\n",
       "      <td>0</td>\n",
       "      <td>...</td>\n",
       "      <td>NaN</td>\n",
       "      <td>NaN</td>\n",
       "      <td>NaN</td>\n",
       "      <td>NaN</td>\n",
       "      <td>NaN</td>\n",
       "      <td>NaN</td>\n",
       "      <td>NaN</td>\n",
       "      <td>0</td>\n",
       "      <td>67</td>\n",
       "      <td>2017</td>\n",
       "    </tr>\n",
       "  </tbody>\n",
       "</table>\n",
       "<p>1 rows × 47 columns</p>\n",
       "</div>"
      ],
      "text/plain": [
       "        id                                       comment_text  split  \\\n",
       "0  1083994  He got his money... now he lies in wait till a...  train   \n",
       "\n",
       "                    created_date  publication_id  parent_id  article_id  \\\n",
       "0  2017-03-06 15:21:53.675241+00              21        NaN      317120   \n",
       "\n",
       "     rating  funny  wow  ...  asian  latino  other_race_or_ethnicity  \\\n",
       "0  approved      0    0  ...    NaN     NaN                      NaN   \n",
       "\n",
       "   physical_disability  intellectual_or_learning_disability  \\\n",
       "0                  NaN                                  NaN   \n",
       "\n",
       "   psychiatric_or_mental_illness  other_disability  identity_annotator_count  \\\n",
       "0                            NaN               NaN                         0   \n",
       "\n",
       "   toxicity_annotator_count  year  \n",
       "0                        67  2017  \n",
       "\n",
       "[1 rows x 47 columns]"
      ]
     },
     "execution_count": 3,
     "metadata": {},
     "output_type": "execute_result"
    }
   ],
   "source": [
    "df.head(1)"
   ]
  },
  {
   "cell_type": "code",
   "execution_count": 37,
   "id": "26086656",
   "metadata": {},
   "outputs": [
    {
     "name": "stdout",
     "output_type": "stream",
     "text": [
      "Trovati 0 commenti che contengono la parola 'africon'.\n"
     ]
    }
   ],
   "source": [
    "target = \"africon\"\n",
    "s = df[\"comment_text\"].str.contains(target, flags=re.IGNORECASE)\n",
    "indices = s[s == True].index.tolist()\n",
    "print(f\"Trovati {len(indices)} commenti che contengono la parola '{target}'.\")"
   ]
  },
  {
   "cell_type": "code",
   "execution_count": 36,
   "id": "31c4e0f8",
   "metadata": {},
   "outputs": [
    {
     "data": {
      "text/plain": [
       "[]"
      ]
     },
     "execution_count": 36,
     "metadata": {},
     "output_type": "execute_result"
    }
   ],
   "source": [
    "# retrieve indices of matching rows\n",
    "indices = s[s == True].index.tolist()\n",
    "indices"
   ]
  },
  {
   "cell_type": "code",
   "execution_count": 28,
   "id": "a9a5f0c2",
   "metadata": {},
   "outputs": [],
   "source": [
    "with open(\"results.txt\", \"w\") as f:\n",
    "    f.write(df[[\"comment_text\", \"year\"]].iloc[indices].to_string())"
   ]
  },
  {
   "cell_type": "markdown",
   "id": "bb1fc4f3",
   "metadata": {},
   "source": [
    "Test Dataset HF"
   ]
  },
  {
   "cell_type": "code",
   "execution_count": null,
   "id": "7eeca7a8",
   "metadata": {},
   "outputs": [],
   "source": [
    "from tqdm import tqdm\n",
    "from datasets import load_dataset\n",
    "from itertools import islice\n",
    "\n",
    "dataset = load_dataset(\"enryu43/twitter100m_tweets\", split=\"train\", streaming=True)\n",
    "\n",
    "targets = [\"mexicunt\", \"asshole\", \"nigger\", \"faggot\"]\n",
    "count_tweets = 0\n",
    "MAX_ROWS = 1_500_000\n",
    "\n",
    "for example in tqdm(islice(dataset, MAX_ROWS), desc=\"Analizzando tweet...\"):\n",
    "    text = example[\"tweet\"].lower()\n",
    "    for target in targets:\n",
    "        if target in text:\n",
    "            count_tweets += 1"
   ]
  }
 ],
 "metadata": {
  "kernelspec": {
   "display_name": "base",
   "language": "python",
   "name": "python3"
  },
  "language_info": {
   "codemirror_mode": {
    "name": "ipython",
    "version": 3
   },
   "file_extension": ".py",
   "mimetype": "text/x-python",
   "name": "python",
   "nbconvert_exporter": "python",
   "pygments_lexer": "ipython3",
   "version": "3.10.15"
  }
 },
 "nbformat": 4,
 "nbformat_minor": 5
}
