{
 "cells": [
  {
   "cell_type": "code",
   "execution_count": 49,
   "id": "02ffee65",
   "metadata": {},
   "outputs": [],
   "source": [
    "#%pip install tfds-nightly\n",
    "#%matplotlib inline\n",
    "\n",
    "import pandas as pd\n",
    "import matplotlib.pyplot as plt\n",
    "\n",
    "plt.rcParams.update({\"figure.dpi\": 120, \"figure.figsize\": (10, 5)})\n",
    "dfs = {}\n",
    "datasets = [\"CivilComments\", \"Cyberbullying\", \"MeToo\", \"HS Tweets\", \"MultiTarget\", \"Toraman22\", \"GHC\"]"
   ]
  },
  {
   "cell_type": "markdown",
   "id": "e3dbb97c",
   "metadata": {},
   "source": [
    "CivilComments"
   ]
  },
  {
   "cell_type": "code",
   "execution_count": 50,
   "id": "50575342",
   "metadata": {},
   "outputs": [
    {
     "name": "stdout",
     "output_type": "stream",
     "text": [
      "Rows: 1999516\n"
     ]
    },
    {
     "name": "stderr",
     "output_type": "stream",
     "text": [
      "c:\\Users\\Dario\\miniconda3\\lib\\site-packages\\pandas\\core\\arrays\\datetimes.py:1143: UserWarning: Converting to PeriodArray/Index representation will drop timezone information.\n",
      "  warnings.warn(\n"
     ]
    }
   ],
   "source": [
    "dfs[\"CivilComments\"] = pd.read_csv(\"CivilComments/data.csv\")\n",
    "\n",
    "# Cell 3: parse created_date which may be bytes (e.g., b'2016-11-29 ...')\n",
    "def parse_created_date(val):\n",
    "    # decode bytes if needed and coerce to datetime (UTC)\n",
    "    if isinstance(val, (bytes, bytearray)):\n",
    "        s = val.decode(\"utf-8\")\n",
    "    else:\n",
    "        s = str(val)\n",
    "    # Some entries may already be 'YYYY-MM-DD ...' strings; this will handle them\n",
    "    return pd.to_datetime(s, errors=\"coerce\", utc=True)\n",
    "\n",
    "# Apply parsing\n",
    "dfs[\"CivilComments\"][\"created_date\"] = dfs[\"CivilComments\"][\"created_date\"].apply(parse_created_date)\n",
    "\n",
    "# Drop rows with invalid dates\n",
    "dfs[\"CivilComments\"] = dfs[\"CivilComments\"].dropna(subset=[\"created_date\"]).reset_index(drop=True)\n",
    "\n",
    "dfs[\"CivilComments\"][\"class\"] = dfs[\"CivilComments\"][\"toxicity\"].apply(lambda t: \"Hate\" if t > 0.5 else \"Non-Hate\")\n",
    "dfs[\"CivilComments\"][\"month\"] = dfs[\"CivilComments\"][\"created_date\"].dt.to_period(\"M\")\n",
    "\n",
    "print(f\"Rows: {len(dfs['CivilComments'])}\")"
   ]
  },
  {
   "cell_type": "markdown",
   "id": "6254c64d",
   "metadata": {},
   "source": [
    "MeToo"
   ]
  },
  {
   "cell_type": "code",
   "execution_count": 51,
   "id": "65f4aa60",
   "metadata": {},
   "outputs": [
    {
     "name": "stdout",
     "output_type": "stream",
     "text": [
      "Rows: 807174\n"
     ]
    }
   ],
   "source": [
    "# Cell 3\n",
    "dfs[\"MeToo\"] = pd.read_csv(\"MeToo/data.csv\")\n",
    "\n",
    "# Parse created_at as datetime (UTC)\n",
    "dfs[\"MeToo\"][\"created_at\"] = pd.to_datetime(dfs[\"MeToo\"][\"created_at\"], errors=\"coerce\", utc=True)\n",
    "\n",
    "# Drop rows with invalid dates\n",
    "dfs[\"MeToo\"] = dfs[\"MeToo\"].dropna(subset=[\"created_at\"]).reset_index(drop=True)\n",
    "\n",
    "dfs[\"MeToo\"][\"month\"] = dfs[\"MeToo\"][\"created_at\"].dt.to_period(\"M\")\n",
    "\n",
    "# Generate Classes\n",
    "dfs[\"MeToo\"][\"class\"] = dfs[\"MeToo\"][\"category\"].map({0: \"Non-Hate\", 1: \"Hate\"})\n",
    "\n",
    "print(f\"Rows: {len(dfs['MeToo'])}\")"
   ]
  },
  {
   "cell_type": "markdown",
   "id": "702f91e8",
   "metadata": {},
   "source": [
    "HS Tweet"
   ]
  },
  {
   "cell_type": "code",
   "execution_count": 52,
   "id": "23bc6b2b",
   "metadata": {},
   "outputs": [
    {
     "name": "stdout",
     "output_type": "stream",
     "text": [
      "Rows: 3061\n"
     ]
    }
   ],
   "source": [
    "hst_classes = [\"Hate\", \"Normal\", \"Offensive\"]\n",
    "hst_dfs = []\n",
    "\n",
    "for cls in hst_classes:\n",
    "    for i in range(1, 5):  # files 1 to 4\n",
    "        file_name = f\"HS Tweets/{cls}_Speeches_{i}.csv\"\n",
    "        tmp = pd.read_csv(file_name, usecols=[\"created_at\"])\n",
    "        tmp[\"class\"] = cls\n",
    "        hst_dfs.append(tmp)\n",
    "\n",
    "# Combine all files into a single DataFrame\n",
    "dfs[\"HS Tweets\"] = pd.concat(hst_dfs, ignore_index=True)\n",
    "\n",
    "dfs[\"HS Tweets\"][\"created_at\"] = pd.to_datetime(dfs[\"HS Tweets\"][\"created_at\"], errors=\"coerce\", utc=True)\n",
    "\n",
    "# Drop invalid dates\n",
    "dfs[\"HS Tweets\"] = dfs[\"HS Tweets\"].dropna(subset=[\"created_at\"]).reset_index(drop=True)\n",
    "\n",
    "\n",
    "dfs[\"HS Tweets\"][\"class\"] = dfs[\"HS Tweets\"][\"class\"].map({\"Normal\": \"Non-Hate\", \"Hate\": \"Hate\", \"Offensive\": \"Hate\"})\n",
    "dfs[\"HS Tweets\"][\"month\"] = dfs[\"HS Tweets\"][\"created_at\"].dt.to_period(\"M\")\n",
    "\n",
    "print(f\"Rows: {len(dfs['HS Tweets'])}\")"
   ]
  },
  {
   "cell_type": "markdown",
   "id": "fa6a05c1",
   "metadata": {},
   "source": [
    "MultiTarget"
   ]
  },
  {
   "cell_type": "code",
   "execution_count": 53,
   "id": "8a9039ae",
   "metadata": {},
   "outputs": [
    {
     "name": "stdout",
     "output_type": "stream",
     "text": [
      "Rows: 11243\n"
     ]
    },
    {
     "name": "stderr",
     "output_type": "stream",
     "text": [
      "c:\\Users\\Dario\\miniconda3\\lib\\site-packages\\pandas\\core\\arrays\\datetimes.py:1143: UserWarning: Converting to PeriodArray/Index representation will drop timezone information.\n",
      "  warnings.warn(\n"
     ]
    }
   ],
   "source": [
    "dfs[\"MultiTarget\"] = pd.read_csv(\"MultiTarget/data.csv\")\n",
    "\n",
    "dfs[\"MultiTarget\"][\"CreateDate\"] = pd.to_datetime(dfs[\"MultiTarget\"][\"CreateDate\"], errors=\"coerce\", utc=True)\n",
    "\n",
    "def assign_class_simple(row):\n",
    "    if row.get(\"Biased\") == 1:\n",
    "        return \"Hate\"\n",
    "    if row.get(\"Calling_Out\") == 1:\n",
    "        return \"Hate\"\n",
    "    return \"Non-Hate\"\n",
    "\n",
    "dfs[\"MultiTarget\"][\"class\"] = dfs[\"MultiTarget\"].apply(assign_class_simple, axis=1)\n",
    "\n",
    "# Create year_month column\n",
    "dfs[\"MultiTarget\"][\"month\"] = dfs[\"MultiTarget\"][\"CreateDate\"].dt.to_period(\"M\")\n",
    "\n",
    "print(f\"Rows: {len(dfs['MultiTarget'])}\")"
   ]
  },
  {
   "cell_type": "markdown",
   "id": "d56e69c5",
   "metadata": {},
   "source": [
    "Toraman22"
   ]
  },
  {
   "cell_type": "code",
   "execution_count": 54,
   "id": "c3fcc784",
   "metadata": {},
   "outputs": [
    {
     "name": "stderr",
     "output_type": "stream",
     "text": [
      "c:\\Users\\Dario\\miniconda3\\lib\\site-packages\\IPython\\core\\interactiveshell.py:3577: DtypeWarning: Columns (0,4,10) have mixed types.Specify dtype option on import or set low_memory=False.\n",
      "  exec(code_obj, self.user_global_ns, self.user_ns)\n"
     ]
    },
    {
     "name": "stdout",
     "output_type": "stream",
     "text": [
      "Rows: 102066\n"
     ]
    }
   ],
   "source": [
    "dfs[\"Toraman22\"] = pd.read_csv(\"Toraman22/v2.tsv\", sep=\"\\t\")\n",
    "\n",
    "# English Only\n",
    "dfs[\"Toraman22\"] = dfs[\"Toraman22\"][dfs[\"Toraman22\"][\"language\"] == 1].copy()\n",
    "\n",
    "\n",
    "# parse date column\n",
    "dfs[\"Toraman22\"][\"date\"] = pd.to_datetime(dfs[\"Toraman22\"][\"date\"], errors=\"coerce\")\n",
    "dfs[\"Toraman22\"] = dfs[\"Toraman22\"].dropna(subset=[\"date\"])  # drop rows with invalid dates\n",
    "dfs[\"Toraman22\"][\"month\"] = dfs[\"Toraman22\"][\"date\"].dt.to_period(\"M\")\n",
    "\n",
    "def assign_class(row):\n",
    "    votes = {\n",
    "        \"Non-Hate\": row[\"label_0\"],\n",
    "        \"Hate\": row[\"label_2\"] + row[\"label_1\"]\n",
    "    }\n",
    "    max_vote = max(votes.values())\n",
    "    candidates = [cls for cls, v in votes.items() if v == max_vote]\n",
    "\n",
    "    if \"Hate\" in candidates: # prefer Hate in case of tie\n",
    "        return \"Hate\"\n",
    "    \n",
    "    return \"Non-Hate\"\n",
    "\n",
    "dfs[\"Toraman22\"][\"class\"] = dfs[\"Toraman22\"].apply(assign_class, axis=1)\n",
    "print(f\"Rows: {len(dfs['Toraman22'])}\")"
   ]
  },
  {
   "cell_type": "markdown",
   "id": "04875e08",
   "metadata": {},
   "source": [
    "GHC"
   ]
  },
  {
   "cell_type": "code",
   "execution_count": 69,
   "id": "65b9338b",
   "metadata": {},
   "outputs": [
    {
     "name": "stdout",
     "output_type": "stream",
     "text": [
      "Rows: 27546\n"
     ]
    }
   ],
   "source": [
    "import numpy as np\n",
    "\n",
    "df1 = pd.read_csv('GHC/ghc_train.tsv', sep='\\t')\n",
    "df2 = pd.read_csv('GHC/ghc_test.tsv', sep='\\t')\n",
    "\n",
    "dfs[\"GHC\"] = pd.concat([df1, df2], ignore_index=True)\n",
    "dfs[\"GHC\"][\"class\"] = pd.DataFrame(np.where( (dfs[\"GHC\"][\"hd\"] + dfs[\"GHC\"][\"cv\"] + dfs[\"GHC\"][\"vo\"]  > 0), \"Hate\", \"Non-Hate\")) # If the row has at least one hate label, it is classified as Hate\n",
    "\n",
    "dfs[\"GHC\"][\"month\"] = pd.to_datetime(f\"2018\") # We are just showing yearly distribution for now\n",
    "\n",
    "\n",
    "print(f\"Rows: {len(dfs['GHC'])}\")"
   ]
  },
  {
   "cell_type": "code",
   "execution_count": 74,
   "id": "90df4878",
   "metadata": {},
   "outputs": [
    {
     "data": {
      "text/plain": [
       "Non-Hate    2714451\n",
       "Hate         236155\n",
       "Name: class, dtype: int64"
      ]
     },
     "execution_count": 74,
     "metadata": {},
     "output_type": "execute_result"
    }
   ],
   "source": [
    "df = pd.concat(dfs.values(), ignore_index=True)\n",
    "df[\"class\"].value_counts()"
   ]
  },
  {
   "cell_type": "code",
   "execution_count": 71,
   "id": "bd876d71",
   "metadata": {},
   "outputs": [
    {
     "data": {
      "image/png": "[encoded data removed]",
      "text/plain": [
       "<Figure size 720x480 with 1 Axes>"
      ]
     },
     "metadata": {},
     "output_type": "display_data"
    }
   ],
   "source": [
    "class_percent = df[\"class\"].value_counts(normalize=True).reindex([\"Non-Hate\", \"Hate\"]).fillna(0) * 100\n",
    "colors = {\"Non-Hate\": \"lightgreen\", \"Hate\": \"red\"}\n",
    "\n",
    "plt.figure(figsize=(6,4))\n",
    "class_percent.plot(kind=\"bar\", color=[colors[k] for k in class_percent.index])\n",
    "plt.title(\"Overall percentage per class\")\n",
    "plt.ylabel(\"Percentage (%)\")\n",
    "plt.xlabel(\"Class\")\n",
    "plt.xticks(rotation=0)\n",
    "for i, v in enumerate(class_percent):\n",
    "    plt.text(i, v + 0.6, f\"{v:.1f}%\", ha=\"center\")\n",
    "plt.tight_layout()\n",
    "plt.show()"
   ]
  },
  {
   "cell_type": "markdown",
   "id": "bc5ea778",
   "metadata": {},
   "source": [
    "### Yearly charts (Hate label only)"
   ]
  },
  {
   "cell_type": "code",
   "execution_count": 80,
   "id": "7533173b",
   "metadata": {},
   "outputs": [],
   "source": [
    "# Combine all dataframes with dataset labels\n",
    "all_data = []\n",
    "for dataset_name, df in dfs.items():\n",
    "    df_temp = df[df['class'] == 'Hate'].copy()    \n",
    "    df_temp['year'] = df_temp['month'].dt.strftime('%Y')\n",
    "    df_temp['dataset'] = dataset_name\n",
    "    all_data.append(df_temp[['year', 'dataset']])\n",
    "\n",
    "# Concatenate all data\n",
    "combined_df = pd.concat(all_data, ignore_index=True)\n",
    "\n",
    "# Count by year and dataset, then calculate percentages\n",
    "yearly_counts = combined_df.groupby([\"year\", \"dataset\"]).size().unstack(fill_value=0).sort_index()\n",
    "yearly_percent = yearly_counts.div(yearly_counts.sum(axis=1), axis=0) * 100\n",
    "\n",
    "# Define colors for each dataset\n",
    "colors = {\n",
    "    \"CivilComments\": \"#1f77b4\",\n",
    "    \"Cyberbullying\": \"#ff7f0e\", \n",
    "    \"MeToo\": \"#2ca02c\",\n",
    "    \"HS Tweets\": \"#d62728\",\n",
    "    \"MultiTarget\": \"#9467bd\",\n",
    "    \"Toraman22\": \"#8c564b\",\n",
    "    \"GHC\": \"#e377c2\"\n",
    "}"
   ]
  },
  {
   "cell_type": "code",
   "execution_count": null,
   "id": "7ce3fe7e",
   "metadata": {},
   "outputs": [
    {
     "data": {
      "image/png": "[encoded data removed]",
      "text/plain": [
       "<Figure size 1440x720 with 1 Axes>"
      ]
     },
     "metadata": {},
     "output_type": "display_data"
    }
   ],
   "source": [
    "# Create the plot\n",
    "yearly_counts.plot(kind=\"bar\", stacked=True, figsize=(12, 6), color=colors)\n",
    "\n",
    "plt.title(\"Dataset (Hate) Contribution per Year\")\n",
    "plt.ylabel(\"Number of Hate Samples\")\n",
    "plt.xlabel(\"Year\")\n",
    "plt.xticks(rotation=0)\n",
    "plt.legend(title=\"Dataset\")\n",
    "plt.tight_layout()\n",
    "plt.show()"
   ]
  },
  {
   "cell_type": "markdown",
   "id": "aafef9ef",
   "metadata": {},
   "source": [
    "### Notes\n",
    "- 2006 - 2008 Toraman it's pretty much noise, and has 35% of the data in 2019\n",
    "- HS Tweets it's basically spread in 10 of February\n",
    "- CivliComments + MeToo cover 95% of data (can be ok for CC but not for MeToo)\n",
    "- SemEval and WhiteSupremacy have been excluded because timespans are too wide to maky any assumptions (decades)\n",
    "- DigHist has it's own chart for a similar reason\n",
    "- The charts are for Hate label only, although the distribution of classes per dataset it's somehow similar (between 6% and 15%), considering full datasets would make the difference in number of rows even worse\n"
   ]
  },
  {
   "cell_type": "markdown",
   "id": "c53fa4ce",
   "metadata": {},
   "source": [
    "### Type of Datasets\n",
    "We have 3 types of  diacrhonic datasets (based on labelling and split) that could use\n",
    "- Hate Labelled (basically all the ones in the charts above)\n",
    "- LSC (Dataset is given with target words but not labelled)\n",
    "- Pure Diachronic (Just large scale corpora with wide timespan such as PleIAs/common_corpus, PleIAs/US-PD-Newspapers or many others available here https://www.english-corpora.org/corpora.asp)\n",
    "There are very afew LSC datasets available (the way I define them)"
   ]
  },
  {
   "cell_type": "markdown",
   "id": "12777c32",
   "metadata": {},
   "source": [
    "## Fusion approaches\n",
    "The proposed approaches depend heavily on the final task, since it will define the labels we will need and the training approach.\n",
    "\n",
    "- **Hate label trough time** \n",
    "<br>Due to the lack of targets this would be easiest approach. It can allow us to do some post processing to mitigate distribution of both classess and targets.<br>\n",
    "\n",
    "- **Words through time**\n",
    "<br>This would be more oriented to a pure LSCD task since we need the lexicon which is the main focus.<br>\n",
    "\n",
    "- **Time based**\n",
    "<br>Splitting in time slots sounds promising if we want to proof that we don't need to explicitly train a model on LSC task to perform better, we could just try CLM training and see what happens<br>\n"
   ]
  },
  {
   "cell_type": "markdown",
   "id": "968295f1",
   "metadata": {},
   "source": [
    "### Extra resources \n",
    "These resources could be helpful\n",
    "- https://github.com/Garrafao/LSCDetection/tree/master?tab=readme-ov-file#pre-training Repository for LSCD task where datasets were collected, there are also evaluation metrics that could be used in the future\n",
    "-  https://github.com/lexibank/datsemshift  lexicon of shifted meaning word (on the first read i couldn't find the timespan used to define the change). Very reliable work since the research group has published several paper on the topic and has released a very famous Russian LSC dataset.\n",
    "- https://aclanthology.org/2022.lrec-1.228.pdf paper from Montreal University about how to build a LSC dataset (how to build the lexicon). The procedure seems very time consuming to me but i just gave a quick look. They build a french so Farah could understand things better.\n",
    "- https://nlp.stanford.edu/projects/histwords/ Historical Embedding\n",
    "- twint is dead"
   ]
  },
  {
   "cell_type": "markdown",
   "id": "e6be3735",
   "metadata": {},
   "source": [
    "### Task idea: MoTE + next embedding generation (https://arxiv.org/pdf/2310.10688)\n",
    "<br>We might won't need lexicon in training, in between embedding comparison and definition generation. An interesting training idea (for decoder) could be, given a word/definition from time n, generate using experts until time n-1 and use as gold label the given word/definition or generate one from n-th expert."
   ]
  },
  {
   "cell_type": "markdown",
   "id": "b9e0e911",
   "metadata": {},
   "source": []
  }
 ],
 "metadata": {
  "kernelspec": {
   "display_name": "base",
   "language": "python",
   "name": "python3"
  },
  "language_info": {
   "codemirror_mode": {
    "name": "ipython",
    "version": 3
   },
   "file_extension": ".py",
   "mimetype": "text/x-python",
   "name": "python",
   "nbconvert_exporter": "python",
   "pygments_lexer": "ipython3",
   "version": "3.10.15"
  }
 },
 "nbformat": 4,
 "nbformat_minor": 5
}
